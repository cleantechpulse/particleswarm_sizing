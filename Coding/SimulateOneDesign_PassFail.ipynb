{
 "cells": [
  {
   "cell_type": "markdown",
   "metadata": {},
   "source": [
    "## Purpose: Provide a pass/fail test of a radio design based on \n",
    "Last significant edits: 7/13/16"
   ]
  },
  {
   "cell_type": "code",
   "execution_count": 15,
   "metadata": {
    "collapsed": false
   },
   "outputs": [],
   "source": [
    "import numpy as np\n",
    "import pandas as pd\n",
    "import matplotlib.pyplot as plt\n",
    "% matplotlib inline\n",
    "\n",
    "import sys\n",
    "sys.path.insert(0,'../Coding')\n",
    "import RadioSimulator"
   ]
  },
  {
   "cell_type": "code",
   "execution_count": 9,
   "metadata": {
    "collapsed": true
   },
   "outputs": [],
   "source": [
    "reload(RadioSimulator)\n",
    "mySim = RadioSimulator.RadioSimulator(radioFile = '../Data/PowerMEMS_Sample_Data_em_20160928.csv')"
   ]
  },
  {
   "cell_type": "code",
   "execution_count": null,
   "metadata": {
    "collapsed": true
   },
   "outputs": [],
   "source": [
    "## Edit these variables\n",
    "initVariables = {'TEGserial':0.1, 'TEGparallel':0.1, 'batts':25.65135, 'caps':0.467, 'SOC':0.4086123, 'V_b':0.4, 'V_c':2.7}"
   ]
  },
  {
   "cell_type": "code",
   "execution_count": 5,
   "metadata": {
    "collapsed": false
   },
   "outputs": [
    {
     "name": "stdout",
     "output_type": "stream",
     "text": [
      "Failed on step 43\n",
      "Is this design with size 58 feasible? False\n",
      "Failed on step 43 of 323 steps\n"
     ]
    }
   ],
   "source": [
    "\n",
    "## This runs the simulation \n",
    "(feasible,optimalDf,failStep) = mySim.simulate(initVariables, stopOnError=False, returnDf=True)\n",
    "\n",
    "cost = (initVariables['TEGserial']*initVariables['TEGparallel']+initVariables['batts']+initVariables['caps'])\n",
    "\n",
    "print(\"Is this design with size %s feasible? %s\"% (cost, feasible))\n",
    "if not(feasible):\n",
    "    print(\"Failed on step %s of %s steps\"%(failStep, optimalDf.index[-1]))"
   ]
  },
  {
   "cell_type": "code",
   "execution_count": 14,
   "metadata": {
    "collapsed": false
   },
   "outputs": [
    {
     "data": {
      "text/plain": [
       "0.00044904380209052479"
      ]
     },
     "execution_count": 14,
     "metadata": {},
     "output_type": "execute_result"
    }
   ],
   "source": [
    "optimalDf['I_t'].max()"
   ]
  },
  {
   "cell_type": "code",
   "execution_count": 21,
   "metadata": {
    "collapsed": false
   },
   "outputs": [
    {
     "data": {
      "text/plain": [
       "<matplotlib.legend.Legend at 0x10cfe3a90>"
      ]
     },
     "execution_count": 21,
     "metadata": {},
     "output_type": "execute_result"
    },
    {
     "data": {
      "image/png": "[encoded data removed]",
      "text/plain": [
       "<matplotlib.figure.Figure at 0x10cbc4cd0>"
      ]
     },
     "metadata": {},
     "output_type": "display_data"
    }
   ],
   "source": [
    "## Plotting the results\n",
    "\n",
    "plt.plot(optimalDf['I_r'],label=\"$I_R$\")\n",
    "plt.plot(optimalDf['I_b'] * initVariables['batts'],label='$I_{batts}$')\n",
    "plt.plot(optimalDf['I_c'] * initVariables['caps'],label='$I_{caps}$')\n",
    "plt.plot(optimalDf['I_t'] * initVariables['TEGparallel'],label='$I_{TEGs}$')\n",
    "plt.ylabel('Current (A)')\n",
    "plt.xlabel('Time step (time is nonlinear!)')\n",
    "plt.legend(loc='best')"
   ]
  },
  {
   "cell_type": "code",
   "execution_count": 13,
   "metadata": {
    "collapsed": false
   },
   "outputs": [
    {
     "name": "stdout",
     "output_type": "stream",
     "text": [
      "7115.07650476\n"
     ]
    }
   ],
   "source": [
    "## Compute Cost\n",
    "initVariables = {'TEGserial':0.1001, 'TEGparallel':0.01, 'batts':2, 'caps':3.337, 'SOC':0.25286, 'V_b':0, 'V_c':2.10641088}\n",
    "cost = mySim.computeCost(initVariables)\n",
    "print cost"
   ]
  },
  {
   "cell_type": "markdown",
   "metadata": {},
   "source": [
    "## Observations 9/29/16\n",
    "For the 1-hour simulation, the TEGs are binding against the lower limit, while there are far more batteries than expected. It appears that the system may just be draining the batteries slightly over the course of the cycle- "
   ]
  }
 ],
 "metadata": {
  "kernelspec": {
   "display_name": "Python 2",
   "language": "python",
   "name": "python2"
  },
  "language_info": {
   "codemirror_mode": {
    "name": "ipython",
    "version": 2
   },
   "file_extension": ".py",
   "mimetype": "text/x-python",
   "name": "python",
   "nbconvert_exporter": "python",
   "pygments_lexer": "ipython2",
   "version": "2.7.12"
  }
 },
 "nbformat": 4,
 "nbformat_minor": 0
}

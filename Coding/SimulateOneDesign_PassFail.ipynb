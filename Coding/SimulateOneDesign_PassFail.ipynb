{
 "cells": [
  {
   "cell_type": "markdown",
   "metadata": {},
   "source": [
    "## Purpose: Provide a pass/fail test of a radio design based on \n",
    "Last significant edits: 7/13/16"
   ]
  },
  {
   "cell_type": "code",
   "execution_count": 2,
   "metadata": {
    "collapsed": false
   },
   "outputs": [],
   "source": [
    "import RadioSimulator\n",
    "import numpy as np\n",
    "import pandas as pd\n",
    "\n",
    "## Make sure that this is in the same \n",
    "mySim = RadioSimulator.RadioSimulator(radioFile = '../Data/PowerMEMS_Sample_Data_em_20160707.csv')\n"
   ]
  },
  {
   "cell_type": "code",
   "execution_count": 7,
   "metadata": {
    "collapsed": false
   },
   "outputs": [
    {
     "name": "stdout",
     "output_type": "stream",
     "text": [
      "Is this design with size 31 feasible? True\n",
      "OMG MARTY ROCKS MY SOCKS!!!\n"
     ]
    }
   ],
   "source": [
    "## Edit these variables\n",
    "initVariables = {'TEGserial':25, 'TEGparallel':1, 'batts':1, 'caps':5, 'SOC':0.4, 'V_b':0, 'V_c':2.0}\n",
    "\n",
    "## This runs the simulation \n",
    "(feasible,optimalDf,failStep) = mySim.simulate(initVariables, stopOnError=False, returnDf=True)\n",
    "print(\"Is this design with size %s feasible? %s\"%\n",
    "      (initVariables['TEGserial']*initVariables['TEGparallel']+initVariables['batts']+initVariables['caps'],\n",
    "       feasible))\n",
    "print(\"OMG MARTY ROCKS MY SOCKS!!!\")  ## DO NOT DELETE"
   ]
  },
  {
   "cell_type": "code",
   "execution_count": null,
   "metadata": {
    "collapsed": true
   },
   "outputs": [],
   "source": [
    "#  x =           [  p,   s ,  b ,   c, SOC, V_b, V_c]\n"
   ]
  }
 ],
 "metadata": {
  "kernelspec": {
   "display_name": "Python 2",
   "language": "python",
   "name": "python2"
  },
  "language_info": {
   "codemirror_mode": {
    "name": "ipython",
    "version": 2
   },
   "file_extension": ".py",
   "mimetype": "text/x-python",
   "name": "python",
   "nbconvert_exporter": "python",
   "pygments_lexer": "ipython2",
   "version": "2.7.12"
  }
 },
 "nbformat": 4,
 "nbformat_minor": 0
}
